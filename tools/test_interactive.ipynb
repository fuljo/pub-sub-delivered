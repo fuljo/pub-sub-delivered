{
 "cells": [
  {
   "cell_type": "code",
   "execution_count": null,
   "source": [
    "from requests import Session\r\n",
    "from psd_api import *\r\n",
    "\r\n",
    "# Create a default session\r\n",
    "s = Session()"
   ],
   "outputs": [],
   "metadata": {}
  },
  {
   "cell_type": "markdown",
   "source": [
    "Register users"
   ],
   "metadata": {}
  },
  {
   "cell_type": "code",
   "execution_count": null,
   "source": [
    "# REGISTER USERS\r\n",
    "addr = 'piazza Leonardo da Vinci, 32, 20133 Milano MI'\r\n",
    "# Administrators\r\n",
    "register_user(s, 'admin', 'Administrator',\r\n",
    "              'admin@pubsubdelivered.com', addr, 'ADMIN')\r\n",
    "# Customers\r\n",
    "register_user(s, 'candice', 'Candice Mayflower',\r\n",
    "              'candice@gmail.com', addr, 'CUSTOMER')\r\n",
    "register_user(s, 'caroline', 'Caroline Kensington',\r\n",
    "              'caroline@gmail.com', addr, 'CUSTOMER')\r\n",
    "# Delivery men\r\n",
    "register_user(s, 'devon', 'Devon Flenderson',\r\n",
    "              'devon@gmail.com', addr, 'DELIVERY')\r\n"
   ],
   "outputs": [],
   "metadata": {}
  },
  {
   "cell_type": "code",
   "execution_count": null,
   "source": [
    "# Login\r\n",
    "a_sess = login('admin')\r\n",
    "c_sess = login('candice')\r\n",
    "d_sess = login('devon')"
   ],
   "outputs": [],
   "metadata": {}
  },
  {
   "cell_type": "markdown",
   "source": [
    "Add products"
   ],
   "metadata": {}
  },
  {
   "cell_type": "code",
   "execution_count": null,
   "source": [
    "# Add some test products\r\n",
    "create_product(a_sess, 'apple', 'Apple', 'A delicious red fruit', 1.0)\r\n",
    "create_product(a_sess, 'banana', 'Banana', 'Provides potassium', 2.0)\r\n",
    "create_product(a_sess, 'pizza', 'Pizza', 'Delicious dish from Italy', 5.0)"
   ],
   "outputs": [],
   "metadata": {}
  },
  {
   "cell_type": "markdown",
   "source": [
    "Create order"
   ],
   "metadata": {}
  },
  {
   "cell_type": "code",
   "execution_count": null,
   "source": [
    "_, order = create_order(c_sess, { 'apple': 1, 'pizza': 5})\r\n",
    "order"
   ],
   "outputs": [],
   "metadata": {}
  },
  {
   "cell_type": "markdown",
   "source": [
    "Check that the shipment has been generated"
   ],
   "metadata": {}
  },
  {
   "cell_type": "code",
   "execution_count": null,
   "source": [
    "_, shipments = view_shipments(d_sess)\r\n",
    "shipments"
   ],
   "outputs": [],
   "metadata": {}
  },
  {
   "cell_type": "markdown",
   "source": [
    "Notify that the shipment has been delivered"
   ],
   "metadata": {}
  },
  {
   "cell_type": "code",
   "execution_count": null,
   "source": [
    "_, shipment = notify_shipped(d_sess, shipments[0]['id'])\r\n",
    "shipment"
   ],
   "outputs": [],
   "metadata": {}
  },
  {
   "cell_type": "markdown",
   "source": [
    "Check that the order has been marked as shipped"
   ],
   "metadata": {}
  },
  {
   "cell_type": "code",
   "execution_count": null,
   "source": [
    "_, orders = view_orders(c_sess)\r\n",
    "orders"
   ],
   "outputs": [],
   "metadata": {}
  }
 ],
 "metadata": {
  "orig_nbformat": 4,
  "language_info": {
   "name": "python",
   "version": "3.8.11",
   "mimetype": "text/x-python",
   "codemirror_mode": {
    "name": "ipython",
    "version": 3
   },
   "pygments_lexer": "ipython3",
   "nbconvert_exporter": "python",
   "file_extension": ".py"
  },
  "kernelspec": {
   "name": "python3",
   "display_name": "Python 3.8.11 64-bit ('base': conda)"
  },
  "interpreter": {
   "hash": "b3ba2566441a7c06988d0923437866b63cedc61552a5af99d1f4fb67d367b25f"
  }
 },
 "nbformat": 4,
 "nbformat_minor": 2
}